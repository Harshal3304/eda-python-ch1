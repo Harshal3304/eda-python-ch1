{
 "cells": [
  {
   "cell_type": "markdown",
   "id": "6c4ed14f",
   "metadata": {},
   "source": [
    "1.Analysing the mean of the dataset"
   ]
  },
  {
   "cell_type": "code",
   "execution_count": 2,
   "id": "72ac56db",
   "metadata": {},
   "outputs": [],
   "source": [
    "# import relevent libraries\n",
    "import pandas as pd\n",
    "import numpy as np \n",
    "from scipy import stats\n"
   ]
  },
  {
   "cell_type": "code",
   "execution_count": 3,
   "id": "12579e6e",
   "metadata": {},
   "outputs": [],
   "source": [
    "# Load data into dataframe\n",
    "covid_data =pd.read_csv(\"data/covid-data.csv\")"
   ]
  },
  {
   "cell_type": "code",
   "execution_count": 4,
   "id": "e4e829de",
   "metadata": {},
   "outputs": [
    {
     "data": {
      "application/vnd.microsoft.datawrangler.viewer.v0+json": {
       "columns": [
        {
         "name": "index",
         "rawType": "int64",
         "type": "integer"
        },
        {
         "name": "iso_code",
         "rawType": "object",
         "type": "string"
        },
        {
         "name": "continent",
         "rawType": "object",
         "type": "string"
        },
        {
         "name": "location",
         "rawType": "object",
         "type": "string"
        },
        {
         "name": "date",
         "rawType": "object",
         "type": "string"
        },
        {
         "name": "total_cases",
         "rawType": "int64",
         "type": "integer"
        },
        {
         "name": "new_cases",
         "rawType": "int64",
         "type": "integer"
        },
        {
         "name": "new_cases_smoothed",
         "rawType": "float64",
         "type": "float"
        },
        {
         "name": "total_deaths",
         "rawType": "float64",
         "type": "float"
        },
        {
         "name": "new_deaths",
         "rawType": "float64",
         "type": "float"
        },
        {
         "name": "new_deaths_smoothed",
         "rawType": "float64",
         "type": "float"
        },
        {
         "name": "total_cases_per_million",
         "rawType": "float64",
         "type": "float"
        },
        {
         "name": "new_cases_per_million",
         "rawType": "float64",
         "type": "float"
        },
        {
         "name": "new_cases_smoothed_per_million",
         "rawType": "float64",
         "type": "float"
        },
        {
         "name": "total_deaths_per_million",
         "rawType": "float64",
         "type": "float"
        },
        {
         "name": "new_deaths_per_million",
         "rawType": "float64",
         "type": "float"
        },
        {
         "name": "new_deaths_smoothed_per_million",
         "rawType": "float64",
         "type": "float"
        },
        {
         "name": "reproduction_rate",
         "rawType": "float64",
         "type": "float"
        },
        {
         "name": "icu_patients",
         "rawType": "float64",
         "type": "float"
        },
        {
         "name": "icu_patients_per_million",
         "rawType": "float64",
         "type": "float"
        },
        {
         "name": "hosp_patients",
         "rawType": "float64",
         "type": "float"
        },
        {
         "name": "hosp_patients_per_million",
         "rawType": "float64",
         "type": "float"
        },
        {
         "name": "weekly_icu_admissions",
         "rawType": "float64",
         "type": "float"
        },
        {
         "name": "weekly_icu_admissions_per_million",
         "rawType": "float64",
         "type": "float"
        },
        {
         "name": "weekly_hosp_admissions",
         "rawType": "float64",
         "type": "float"
        },
        {
         "name": "weekly_hosp_admissions_per_million",
         "rawType": "float64",
         "type": "float"
        },
        {
         "name": "total_tests",
         "rawType": "float64",
         "type": "float"
        },
        {
         "name": "new_tests",
         "rawType": "float64",
         "type": "float"
        },
        {
         "name": "total_tests_per_thousand",
         "rawType": "float64",
         "type": "float"
        },
        {
         "name": "new_tests_per_thousand",
         "rawType": "float64",
         "type": "float"
        },
        {
         "name": "new_tests_smoothed",
         "rawType": "float64",
         "type": "float"
        },
        {
         "name": "new_tests_smoothed_per_thousand",
         "rawType": "float64",
         "type": "float"
        },
        {
         "name": "positive_rate",
         "rawType": "float64",
         "type": "float"
        },
        {
         "name": "tests_per_case",
         "rawType": "float64",
         "type": "float"
        },
        {
         "name": "tests_units",
         "rawType": "object",
         "type": "unknown"
        },
        {
         "name": "total_vaccinations",
         "rawType": "float64",
         "type": "float"
        },
        {
         "name": "people_vaccinated",
         "rawType": "float64",
         "type": "float"
        },
        {
         "name": "people_fully_vaccinated",
         "rawType": "float64",
         "type": "float"
        },
        {
         "name": "total_boosters",
         "rawType": "float64",
         "type": "float"
        },
        {
         "name": "new_vaccinations",
         "rawType": "float64",
         "type": "float"
        },
        {
         "name": "new_vaccinations_smoothed",
         "rawType": "float64",
         "type": "float"
        },
        {
         "name": "total_vaccinations_per_hundred",
         "rawType": "float64",
         "type": "float"
        },
        {
         "name": "people_vaccinated_per_hundred",
         "rawType": "float64",
         "type": "float"
        },
        {
         "name": "people_fully_vaccinated_per_hundred",
         "rawType": "float64",
         "type": "float"
        },
        {
         "name": "total_boosters_per_hundred",
         "rawType": "float64",
         "type": "float"
        },
        {
         "name": "new_vaccinations_smoothed_per_million",
         "rawType": "float64",
         "type": "float"
        },
        {
         "name": "new_people_vaccinated_smoothed",
         "rawType": "float64",
         "type": "float"
        },
        {
         "name": "new_people_vaccinated_smoothed_per_hundred",
         "rawType": "float64",
         "type": "float"
        },
        {
         "name": "stringency_index",
         "rawType": "float64",
         "type": "float"
        },
        {
         "name": "population",
         "rawType": "int64",
         "type": "integer"
        },
        {
         "name": "population_density",
         "rawType": "float64",
         "type": "float"
        },
        {
         "name": "median_age",
         "rawType": "float64",
         "type": "float"
        },
        {
         "name": "aged_65_older",
         "rawType": "float64",
         "type": "float"
        },
        {
         "name": "aged_70_older",
         "rawType": "float64",
         "type": "float"
        },
        {
         "name": "gdp_per_capita",
         "rawType": "float64",
         "type": "float"
        },
        {
         "name": "extreme_poverty",
         "rawType": "float64",
         "type": "float"
        },
        {
         "name": "cardiovasc_death_rate",
         "rawType": "float64",
         "type": "float"
        },
        {
         "name": "diabetes_prevalence",
         "rawType": "float64",
         "type": "float"
        },
        {
         "name": "female_smokers",
         "rawType": "float64",
         "type": "float"
        },
        {
         "name": "male_smokers",
         "rawType": "float64",
         "type": "float"
        },
        {
         "name": "handwashing_facilities",
         "rawType": "float64",
         "type": "float"
        },
        {
         "name": "hospital_beds_per_thousand",
         "rawType": "float64",
         "type": "float"
        },
        {
         "name": "life_expectancy",
         "rawType": "float64",
         "type": "float"
        },
        {
         "name": "human_development_index",
         "rawType": "float64",
         "type": "float"
        },
        {
         "name": "excess_mortality_cumulative_absolute",
         "rawType": "float64",
         "type": "float"
        },
        {
         "name": "excess_mortality_cumulative",
         "rawType": "float64",
         "type": "float"
        },
        {
         "name": "excess_mortality",
         "rawType": "float64",
         "type": "float"
        },
        {
         "name": "excess_mortality_cumulative_per_million",
         "rawType": "float64",
         "type": "float"
        }
       ],
       "ref": "edd97f2d-e90c-41fa-bca6-cb60e8f556d4",
       "rows": [
        [
         "0",
         "AFG",
         "Asia",
         "Afghanistan",
         "24/02/2020",
         "5",
         "5",
         null,
         null,
         null,
         null,
         "0.125",
         "0.125",
         null,
         null,
         null,
         null,
         null,
         null,
         null,
         null,
         null,
         null,
         null,
         null,
         null,
         null,
         null,
         null,
         null,
         null,
         null,
         null,
         null,
         null,
         null,
         null,
         null,
         null,
         null,
         null,
         null,
         null,
         null,
         null,
         null,
         null,
         null,
         "8.33",
         "40099462",
         "54.422",
         "18.6",
         "2.581",
         "1.337",
         "1803.987",
         null,
         "597.029",
         "9.59",
         null,
         null,
         "37.746",
         "0.5",
         "64.83",
         "0.511",
         null,
         null,
         null,
         null
        ],
        [
         "1",
         "AFG",
         "Asia",
         "Afghanistan",
         "25/02/2020",
         "5",
         "0",
         null,
         null,
         null,
         null,
         "0.125",
         "0.0",
         null,
         null,
         null,
         null,
         null,
         null,
         null,
         null,
         null,
         null,
         null,
         null,
         null,
         null,
         null,
         null,
         null,
         null,
         null,
         null,
         null,
         null,
         null,
         null,
         null,
         null,
         null,
         null,
         null,
         null,
         null,
         null,
         null,
         null,
         null,
         "8.33",
         "40099462",
         "54.422",
         "18.6",
         "2.581",
         "1.337",
         "1803.987",
         null,
         "597.029",
         "9.59",
         null,
         null,
         "37.746",
         "0.5",
         "64.83",
         "0.511",
         null,
         null,
         null,
         null
        ],
        [
         "2",
         "AFG",
         "Asia",
         "Afghanistan",
         "26/02/2020",
         "5",
         "0",
         null,
         null,
         null,
         null,
         "0.125",
         "0.0",
         null,
         null,
         null,
         null,
         null,
         null,
         null,
         null,
         null,
         null,
         null,
         null,
         null,
         null,
         null,
         null,
         null,
         null,
         null,
         null,
         null,
         null,
         null,
         null,
         null,
         null,
         null,
         null,
         null,
         null,
         null,
         null,
         null,
         null,
         null,
         "8.33",
         "40099462",
         "54.422",
         "18.6",
         "2.581",
         "1.337",
         "1803.987",
         null,
         "597.029",
         "9.59",
         null,
         null,
         "37.746",
         "0.5",
         "64.83",
         "0.511",
         null,
         null,
         null,
         null
        ],
        [
         "3",
         "AFG",
         "Asia",
         "Afghanistan",
         "27/02/2020",
         "5",
         "0",
         null,
         null,
         null,
         null,
         "0.125",
         "0.0",
         null,
         null,
         null,
         null,
         null,
         null,
         null,
         null,
         null,
         null,
         null,
         null,
         null,
         null,
         null,
         null,
         null,
         null,
         null,
         null,
         null,
         null,
         null,
         null,
         null,
         null,
         null,
         null,
         null,
         null,
         null,
         null,
         null,
         null,
         null,
         "8.33",
         "40099462",
         "54.422",
         "18.6",
         "2.581",
         "1.337",
         "1803.987",
         null,
         "597.029",
         "9.59",
         null,
         null,
         "37.746",
         "0.5",
         "64.83",
         "0.511",
         null,
         null,
         null,
         null
        ],
        [
         "4",
         "AFG",
         "Asia",
         "Afghanistan",
         "28/02/2020",
         "5",
         "0",
         null,
         null,
         null,
         null,
         "0.125",
         "0.0",
         null,
         null,
         null,
         null,
         null,
         null,
         null,
         null,
         null,
         null,
         null,
         null,
         null,
         null,
         null,
         null,
         null,
         null,
         null,
         null,
         null,
         null,
         null,
         null,
         null,
         null,
         null,
         null,
         null,
         null,
         null,
         null,
         null,
         null,
         null,
         "8.33",
         "40099462",
         "54.422",
         "18.6",
         "2.581",
         "1.337",
         "1803.987",
         null,
         "597.029",
         "9.59",
         null,
         null,
         "37.746",
         "0.5",
         "64.83",
         "0.511",
         null,
         null,
         null,
         null
        ]
       ],
       "shape": {
        "columns": 67,
        "rows": 5
       }
      },
      "text/html": [
       "<div>\n",
       "<style scoped>\n",
       "    .dataframe tbody tr th:only-of-type {\n",
       "        vertical-align: middle;\n",
       "    }\n",
       "\n",
       "    .dataframe tbody tr th {\n",
       "        vertical-align: top;\n",
       "    }\n",
       "\n",
       "    .dataframe thead th {\n",
       "        text-align: right;\n",
       "    }\n",
       "</style>\n",
       "<table border=\"1\" class=\"dataframe\">\n",
       "  <thead>\n",
       "    <tr style=\"text-align: right;\">\n",
       "      <th></th>\n",
       "      <th>iso_code</th>\n",
       "      <th>continent</th>\n",
       "      <th>location</th>\n",
       "      <th>date</th>\n",
       "      <th>total_cases</th>\n",
       "      <th>new_cases</th>\n",
       "      <th>new_cases_smoothed</th>\n",
       "      <th>total_deaths</th>\n",
       "      <th>new_deaths</th>\n",
       "      <th>new_deaths_smoothed</th>\n",
       "      <th>...</th>\n",
       "      <th>female_smokers</th>\n",
       "      <th>male_smokers</th>\n",
       "      <th>handwashing_facilities</th>\n",
       "      <th>hospital_beds_per_thousand</th>\n",
       "      <th>life_expectancy</th>\n",
       "      <th>human_development_index</th>\n",
       "      <th>excess_mortality_cumulative_absolute</th>\n",
       "      <th>excess_mortality_cumulative</th>\n",
       "      <th>excess_mortality</th>\n",
       "      <th>excess_mortality_cumulative_per_million</th>\n",
       "    </tr>\n",
       "  </thead>\n",
       "  <tbody>\n",
       "    <tr>\n",
       "      <th>0</th>\n",
       "      <td>AFG</td>\n",
       "      <td>Asia</td>\n",
       "      <td>Afghanistan</td>\n",
       "      <td>24/02/2020</td>\n",
       "      <td>5</td>\n",
       "      <td>5</td>\n",
       "      <td>NaN</td>\n",
       "      <td>NaN</td>\n",
       "      <td>NaN</td>\n",
       "      <td>NaN</td>\n",
       "      <td>...</td>\n",
       "      <td>NaN</td>\n",
       "      <td>NaN</td>\n",
       "      <td>37.746</td>\n",
       "      <td>0.5</td>\n",
       "      <td>64.83</td>\n",
       "      <td>0.511</td>\n",
       "      <td>NaN</td>\n",
       "      <td>NaN</td>\n",
       "      <td>NaN</td>\n",
       "      <td>NaN</td>\n",
       "    </tr>\n",
       "    <tr>\n",
       "      <th>1</th>\n",
       "      <td>AFG</td>\n",
       "      <td>Asia</td>\n",
       "      <td>Afghanistan</td>\n",
       "      <td>25/02/2020</td>\n",
       "      <td>5</td>\n",
       "      <td>0</td>\n",
       "      <td>NaN</td>\n",
       "      <td>NaN</td>\n",
       "      <td>NaN</td>\n",
       "      <td>NaN</td>\n",
       "      <td>...</td>\n",
       "      <td>NaN</td>\n",
       "      <td>NaN</td>\n",
       "      <td>37.746</td>\n",
       "      <td>0.5</td>\n",
       "      <td>64.83</td>\n",
       "      <td>0.511</td>\n",
       "      <td>NaN</td>\n",
       "      <td>NaN</td>\n",
       "      <td>NaN</td>\n",
       "      <td>NaN</td>\n",
       "    </tr>\n",
       "    <tr>\n",
       "      <th>2</th>\n",
       "      <td>AFG</td>\n",
       "      <td>Asia</td>\n",
       "      <td>Afghanistan</td>\n",
       "      <td>26/02/2020</td>\n",
       "      <td>5</td>\n",
       "      <td>0</td>\n",
       "      <td>NaN</td>\n",
       "      <td>NaN</td>\n",
       "      <td>NaN</td>\n",
       "      <td>NaN</td>\n",
       "      <td>...</td>\n",
       "      <td>NaN</td>\n",
       "      <td>NaN</td>\n",
       "      <td>37.746</td>\n",
       "      <td>0.5</td>\n",
       "      <td>64.83</td>\n",
       "      <td>0.511</td>\n",
       "      <td>NaN</td>\n",
       "      <td>NaN</td>\n",
       "      <td>NaN</td>\n",
       "      <td>NaN</td>\n",
       "    </tr>\n",
       "    <tr>\n",
       "      <th>3</th>\n",
       "      <td>AFG</td>\n",
       "      <td>Asia</td>\n",
       "      <td>Afghanistan</td>\n",
       "      <td>27/02/2020</td>\n",
       "      <td>5</td>\n",
       "      <td>0</td>\n",
       "      <td>NaN</td>\n",
       "      <td>NaN</td>\n",
       "      <td>NaN</td>\n",
       "      <td>NaN</td>\n",
       "      <td>...</td>\n",
       "      <td>NaN</td>\n",
       "      <td>NaN</td>\n",
       "      <td>37.746</td>\n",
       "      <td>0.5</td>\n",
       "      <td>64.83</td>\n",
       "      <td>0.511</td>\n",
       "      <td>NaN</td>\n",
       "      <td>NaN</td>\n",
       "      <td>NaN</td>\n",
       "      <td>NaN</td>\n",
       "    </tr>\n",
       "    <tr>\n",
       "      <th>4</th>\n",
       "      <td>AFG</td>\n",
       "      <td>Asia</td>\n",
       "      <td>Afghanistan</td>\n",
       "      <td>28/02/2020</td>\n",
       "      <td>5</td>\n",
       "      <td>0</td>\n",
       "      <td>NaN</td>\n",
       "      <td>NaN</td>\n",
       "      <td>NaN</td>\n",
       "      <td>NaN</td>\n",
       "      <td>...</td>\n",
       "      <td>NaN</td>\n",
       "      <td>NaN</td>\n",
       "      <td>37.746</td>\n",
       "      <td>0.5</td>\n",
       "      <td>64.83</td>\n",
       "      <td>0.511</td>\n",
       "      <td>NaN</td>\n",
       "      <td>NaN</td>\n",
       "      <td>NaN</td>\n",
       "      <td>NaN</td>\n",
       "    </tr>\n",
       "  </tbody>\n",
       "</table>\n",
       "<p>5 rows × 67 columns</p>\n",
       "</div>"
      ],
      "text/plain": [
       "  iso_code continent     location        date  total_cases  new_cases  \\\n",
       "0      AFG      Asia  Afghanistan  24/02/2020            5          5   \n",
       "1      AFG      Asia  Afghanistan  25/02/2020            5          0   \n",
       "2      AFG      Asia  Afghanistan  26/02/2020            5          0   \n",
       "3      AFG      Asia  Afghanistan  27/02/2020            5          0   \n",
       "4      AFG      Asia  Afghanistan  28/02/2020            5          0   \n",
       "\n",
       "   new_cases_smoothed  total_deaths  new_deaths  new_deaths_smoothed  ...  \\\n",
       "0                 NaN           NaN         NaN                  NaN  ...   \n",
       "1                 NaN           NaN         NaN                  NaN  ...   \n",
       "2                 NaN           NaN         NaN                  NaN  ...   \n",
       "3                 NaN           NaN         NaN                  NaN  ...   \n",
       "4                 NaN           NaN         NaN                  NaN  ...   \n",
       "\n",
       "   female_smokers  male_smokers  handwashing_facilities  \\\n",
       "0             NaN           NaN                  37.746   \n",
       "1             NaN           NaN                  37.746   \n",
       "2             NaN           NaN                  37.746   \n",
       "3             NaN           NaN                  37.746   \n",
       "4             NaN           NaN                  37.746   \n",
       "\n",
       "   hospital_beds_per_thousand  life_expectancy  human_development_index  \\\n",
       "0                         0.5            64.83                    0.511   \n",
       "1                         0.5            64.83                    0.511   \n",
       "2                         0.5            64.83                    0.511   \n",
       "3                         0.5            64.83                    0.511   \n",
       "4                         0.5            64.83                    0.511   \n",
       "\n",
       "   excess_mortality_cumulative_absolute  excess_mortality_cumulative  \\\n",
       "0                                   NaN                          NaN   \n",
       "1                                   NaN                          NaN   \n",
       "2                                   NaN                          NaN   \n",
       "3                                   NaN                          NaN   \n",
       "4                                   NaN                          NaN   \n",
       "\n",
       "   excess_mortality  excess_mortality_cumulative_per_million  \n",
       "0               NaN                                      NaN  \n",
       "1               NaN                                      NaN  \n",
       "2               NaN                                      NaN  \n",
       "3               NaN                                      NaN  \n",
       "4               NaN                                      NaN  \n",
       "\n",
       "[5 rows x 67 columns]"
      ]
     },
     "execution_count": 4,
     "metadata": {},
     "output_type": "execute_result"
    }
   ],
   "source": [
    "# Inspect the data frame\n",
    "covid_data.head(5)"
   ]
  },
  {
   "cell_type": "code",
   "execution_count": 5,
   "id": "c7226446",
   "metadata": {},
   "outputs": [
    {
     "data": {
      "application/vnd.microsoft.datawrangler.viewer.v0+json": {
       "columns": [
        {
         "name": "index",
         "rawType": "int64",
         "type": "integer"
        },
        {
         "name": "iso_code",
         "rawType": "object",
         "type": "string"
        },
        {
         "name": "continent",
         "rawType": "object",
         "type": "string"
        },
        {
         "name": "location",
         "rawType": "object",
         "type": "string"
        },
        {
         "name": "date",
         "rawType": "object",
         "type": "string"
        },
        {
         "name": "total_cases",
         "rawType": "int64",
         "type": "integer"
        },
        {
         "name": "new_cases",
         "rawType": "int64",
         "type": "integer"
        }
       ],
       "ref": "0237a437-88bf-4953-a214-ebf18e58fbab",
       "rows": [
        [
         "0",
         "AFG",
         "Asia",
         "Afghanistan",
         "24/02/2020",
         "5",
         "5"
        ],
        [
         "1",
         "AFG",
         "Asia",
         "Afghanistan",
         "25/02/2020",
         "5",
         "0"
        ],
        [
         "2",
         "AFG",
         "Asia",
         "Afghanistan",
         "26/02/2020",
         "5",
         "0"
        ],
        [
         "3",
         "AFG",
         "Asia",
         "Afghanistan",
         "27/02/2020",
         "5",
         "0"
        ],
        [
         "4",
         "AFG",
         "Asia",
         "Afghanistan",
         "28/02/2020",
         "5",
         "0"
        ]
       ],
       "shape": {
        "columns": 6,
        "rows": 5
       }
      },
      "text/html": [
       "<div>\n",
       "<style scoped>\n",
       "    .dataframe tbody tr th:only-of-type {\n",
       "        vertical-align: middle;\n",
       "    }\n",
       "\n",
       "    .dataframe tbody tr th {\n",
       "        vertical-align: top;\n",
       "    }\n",
       "\n",
       "    .dataframe thead th {\n",
       "        text-align: right;\n",
       "    }\n",
       "</style>\n",
       "<table border=\"1\" class=\"dataframe\">\n",
       "  <thead>\n",
       "    <tr style=\"text-align: right;\">\n",
       "      <th></th>\n",
       "      <th>iso_code</th>\n",
       "      <th>continent</th>\n",
       "      <th>location</th>\n",
       "      <th>date</th>\n",
       "      <th>total_cases</th>\n",
       "      <th>new_cases</th>\n",
       "    </tr>\n",
       "  </thead>\n",
       "  <tbody>\n",
       "    <tr>\n",
       "      <th>0</th>\n",
       "      <td>AFG</td>\n",
       "      <td>Asia</td>\n",
       "      <td>Afghanistan</td>\n",
       "      <td>24/02/2020</td>\n",
       "      <td>5</td>\n",
       "      <td>5</td>\n",
       "    </tr>\n",
       "    <tr>\n",
       "      <th>1</th>\n",
       "      <td>AFG</td>\n",
       "      <td>Asia</td>\n",
       "      <td>Afghanistan</td>\n",
       "      <td>25/02/2020</td>\n",
       "      <td>5</td>\n",
       "      <td>0</td>\n",
       "    </tr>\n",
       "    <tr>\n",
       "      <th>2</th>\n",
       "      <td>AFG</td>\n",
       "      <td>Asia</td>\n",
       "      <td>Afghanistan</td>\n",
       "      <td>26/02/2020</td>\n",
       "      <td>5</td>\n",
       "      <td>0</td>\n",
       "    </tr>\n",
       "    <tr>\n",
       "      <th>3</th>\n",
       "      <td>AFG</td>\n",
       "      <td>Asia</td>\n",
       "      <td>Afghanistan</td>\n",
       "      <td>27/02/2020</td>\n",
       "      <td>5</td>\n",
       "      <td>0</td>\n",
       "    </tr>\n",
       "    <tr>\n",
       "      <th>4</th>\n",
       "      <td>AFG</td>\n",
       "      <td>Asia</td>\n",
       "      <td>Afghanistan</td>\n",
       "      <td>28/02/2020</td>\n",
       "      <td>5</td>\n",
       "      <td>0</td>\n",
       "    </tr>\n",
       "  </tbody>\n",
       "</table>\n",
       "</div>"
      ],
      "text/plain": [
       "  iso_code continent     location        date  total_cases  new_cases\n",
       "0      AFG      Asia  Afghanistan  24/02/2020            5          5\n",
       "1      AFG      Asia  Afghanistan  25/02/2020            5          0\n",
       "2      AFG      Asia  Afghanistan  26/02/2020            5          0\n",
       "3      AFG      Asia  Afghanistan  27/02/2020            5          0\n",
       "4      AFG      Asia  Afghanistan  28/02/2020            5          0"
      ]
     },
     "execution_count": 5,
     "metadata": {},
     "output_type": "execute_result"
    }
   ],
   "source": [
    "covid_data = covid_data[['iso_code','continent','location','date','total_cases','new_cases']]\n",
    "covid_data.head(5)"
   ]
  },
  {
   "cell_type": "code",
   "execution_count": 6,
   "id": "5b83be93",
   "metadata": {},
   "outputs": [
    {
     "data": {
      "application/vnd.microsoft.datawrangler.viewer.v0+json": {
       "columns": [
        {
         "name": "index",
         "rawType": "object",
         "type": "string"
        },
        {
         "name": "0",
         "rawType": "object",
         "type": "unknown"
        }
       ],
       "ref": "2cbacfe6-03d2-45c5-aca7-6c9c78bba8e9",
       "rows": [
        [
         "iso_code",
         "object"
        ],
        [
         "continent",
         "object"
        ],
        [
         "location",
         "object"
        ],
        [
         "date",
         "object"
        ],
        [
         "total_cases",
         "int64"
        ],
        [
         "new_cases",
         "int64"
        ]
       ],
       "shape": {
        "columns": 1,
        "rows": 6
       }
      },
      "text/plain": [
       "iso_code       object\n",
       "continent      object\n",
       "location       object\n",
       "date           object\n",
       "total_cases     int64\n",
       "new_cases       int64\n",
       "dtype: object"
      ]
     },
     "execution_count": 6,
     "metadata": {},
     "output_type": "execute_result"
    }
   ],
   "source": [
    "covid_data.dtypes"
   ]
  },
  {
   "cell_type": "code",
   "execution_count": 7,
   "id": "ec3dd99c",
   "metadata": {},
   "outputs": [
    {
     "data": {
      "text/plain": [
       "8814.365761430045"
      ]
     },
     "execution_count": 7,
     "metadata": {},
     "output_type": "execute_result"
    }
   ],
   "source": [
    "# Analyse the mean of the new_cases column using mean method in numpy\n",
    "data_mean =np.mean(covid_data['new_cases'])\n",
    "data_mean"
   ]
  },
  {
   "cell_type": "code",
   "execution_count": 8,
   "id": "540db72f",
   "metadata": {},
   "outputs": [
    {
     "data": {
      "text/plain": [
       "8814.365761430045"
      ]
     },
     "execution_count": 8,
     "metadata": {},
     "output_type": "execute_result"
    }
   ],
   "source": [
    "# Analyse the mean of the new_cases column using mean method in pandas\n",
    "data_mean = covid_data['new_cases'].mean()\n",
    "data_mean"
   ]
  },
  {
   "cell_type": "markdown",
   "id": "262b4454",
   "metadata": {},
   "source": [
    "2.Checking the Median of a dataset"
   ]
  },
  {
   "cell_type": "code",
   "execution_count": 9,
   "id": "ae8d3168",
   "metadata": {},
   "outputs": [
    {
     "data": {
      "text/plain": [
       "261.0"
      ]
     },
     "execution_count": 9,
     "metadata": {},
     "output_type": "execute_result"
    }
   ],
   "source": [
    "# Check the meadian of the new_cases column using the median method in numpy \n",
    "data_median = np.median(covid_data[\"new_cases\"])\n",
    "data_median"
   ]
  },
  {
   "cell_type": "code",
   "execution_count": 10,
   "id": "0e6642f4",
   "metadata": {},
   "outputs": [
    {
     "data": {
      "text/plain": [
       "261.0"
      ]
     },
     "execution_count": 10,
     "metadata": {},
     "output_type": "execute_result"
    }
   ],
   "source": [
    "# Check the median of the new_cases column using the median method in pandas \n",
    "data_median = covid_data['new_cases'].median()\n",
    "data_median"
   ]
  },
  {
   "cell_type": "markdown",
   "id": "9744dd66",
   "metadata": {},
   "source": [
    "3.Identifying the mode of a dataset"
   ]
  },
  {
   "cell_type": "code",
   "execution_count": 11,
   "id": "659b4ad5",
   "metadata": {},
   "outputs": [
    {
     "data": {
      "text/plain": [
       "0"
      ]
     },
     "execution_count": 11,
     "metadata": {},
     "output_type": "execute_result"
    }
   ],
   "source": [
    "# Identifying the mode of the new_data column using the mode method (from scipy import stats)\n",
    "data_mode = covid_data['new_cases'].mode()[0]\n",
    "data_mode"
   ]
  },
  {
   "cell_type": "code",
   "execution_count": 12,
   "id": "dabd4628",
   "metadata": {},
   "outputs": [
    {
     "data": {
      "text/plain": [
       "'Europe'"
      ]
     },
     "execution_count": 12,
     "metadata": {},
     "output_type": "execute_result"
    }
   ],
   "source": [
    "# Identifying the mode of the continent column using the mode method \n",
    "data_mode = covid_data['continent'].mode()[0]\n",
    "data_mode"
   ]
  },
  {
   "cell_type": "markdown",
   "id": "4345d5fd",
   "metadata": {},
   "source": [
    "Checking the variance of a dataset"
   ]
  },
  {
   "cell_type": "code",
   "execution_count": 13,
   "id": "b1d2e312",
   "metadata": {},
   "outputs": [
    {
     "data": {
      "text/plain": [
       "451321915.92810047"
      ]
     },
     "execution_count": 13,
     "metadata": {},
     "output_type": "execute_result"
    }
   ],
   "source": [
    "# Check the variance of the new_cases column using the var method in numpy \n",
    "data_variance = np.var(covid_data['new_cases'])\n",
    "data_variance"
   ]
  },
  {
   "cell_type": "code",
   "execution_count": 14,
   "id": "7e77a646",
   "metadata": {},
   "outputs": [
    {
     "data": {
      "text/plain": [
       "451399502.6422019"
      ]
     },
     "execution_count": 14,
     "metadata": {},
     "output_type": "execute_result"
    }
   ],
   "source": [
    "# Check the variance of the new_cases column using the var method in pandas\n",
    "covid_data['new_cases'].var()"
   ]
  },
  {
   "cell_type": "markdown",
   "id": "dc94511e",
   "metadata": {},
   "source": [
    "Identifying the standard deviation of a dataset"
   ]
  },
  {
   "cell_type": "code",
   "execution_count": 15,
   "id": "35e2a523",
   "metadata": {},
   "outputs": [
    {
     "data": {
      "text/plain": [
       "21244.33844411495"
      ]
     },
     "execution_count": 15,
     "metadata": {},
     "output_type": "execute_result"
    }
   ],
   "source": [
    "# Identifying the standard deviation of a dataset using the std method in numpy\n",
    "data_sd = np.std(covid_data[\"new_cases\"])\n",
    "data_sd"
   ]
  },
  {
   "cell_type": "code",
   "execution_count": 16,
   "id": "af54cf78",
   "metadata": {},
   "outputs": [
    {
     "data": {
      "text/plain": [
       "21246.16442189512"
      ]
     },
     "execution_count": 16,
     "metadata": {},
     "output_type": "execute_result"
    }
   ],
   "source": [
    "# Identifying the standard deviation of a dataset using the std method in pandas\n",
    "covid_data['new_cases'].std()"
   ]
  },
  {
   "cell_type": "markdown",
   "id": "a04ab377",
   "metadata": {},
   "source": [
    "Generating the range of a dataset"
   ]
  },
  {
   "cell_type": "code",
   "execution_count": 17,
   "id": "91f0a320",
   "metadata": {},
   "outputs": [
    {
     "name": "stdout",
     "output_type": "stream",
     "text": [
      "287149 0\n"
     ]
    }
   ],
   "source": [
    "# Generate the range of a dataset using numpy \n",
    "data_max = np.max(covid_data['new_cases'])\n",
    "data_min = np.min(covid_data[\"new_cases\"])\n",
    "print(data_max,data_min)"
   ]
  },
  {
   "cell_type": "code",
   "execution_count": 18,
   "id": "b950e9f2",
   "metadata": {},
   "outputs": [
    {
     "data": {
      "text/plain": [
       "287149"
      ]
     },
     "execution_count": 18,
     "metadata": {},
     "output_type": "execute_result"
    }
   ],
   "source": [
    "data_range = data_max - data_min\n",
    "data_range"
   ]
  },
  {
   "cell_type": "code",
   "execution_count": 19,
   "id": "5e592fcd",
   "metadata": {},
   "outputs": [
    {
     "data": {
      "text/plain": [
       "287149"
      ]
     },
     "execution_count": 19,
     "metadata": {},
     "output_type": "execute_result"
    }
   ],
   "source": [
    "# Generate the range of a dataset using pandas\n",
    "covid_data['new_cases'].max() - covid_data['new_cases'].min()\n"
   ]
  },
  {
   "cell_type": "markdown",
   "id": "4389f1f0",
   "metadata": {},
   "source": [
    "Identifying the percentiles of a dataset\n"
   ]
  },
  {
   "cell_type": "code",
   "execution_count": 20,
   "id": "2241196a",
   "metadata": {},
   "outputs": [
    {
     "data": {
      "text/plain": [
       "64392.37999999999"
      ]
     },
     "execution_count": 20,
     "metadata": {},
     "output_type": "execute_result"
    }
   ],
   "source": [
    "data_percentile = np.percentile(covid_data[\"new_cases\"],97)\n",
    "data_percentile\n"
   ]
  },
  {
   "cell_type": "code",
   "execution_count": 21,
   "id": "40b1255b",
   "metadata": {},
   "outputs": [
    {
     "data": {
      "text/plain": [
       "88086.02999999998"
      ]
     },
     "execution_count": 21,
     "metadata": {},
     "output_type": "execute_result"
    }
   ],
   "source": [
    "covid_data['new_cases'].quantile(.99)"
   ]
  },
  {
   "cell_type": "markdown",
   "id": "eeaffe8b",
   "metadata": {},
   "source": [
    "Checking a quartile of a dataset"
   ]
  },
  {
   "cell_type": "code",
   "execution_count": 22,
   "id": "7c723742",
   "metadata": {},
   "outputs": [
    {
     "data": {
      "text/plain": [
       "3666.0"
      ]
     },
     "execution_count": 22,
     "metadata": {},
     "output_type": "execute_result"
    }
   ],
   "source": [
    "data_quartile = np.quantile(covid_data['new_cases'],0.75)\n",
    "data_quartile"
   ]
  },
  {
   "cell_type": "markdown",
   "id": "eccc0f96",
   "metadata": {},
   "source": [
    "Analyzing the interquartile range (IQR) of a dataset\n"
   ]
  },
  {
   "cell_type": "code",
   "execution_count": 23,
   "id": "cd262570",
   "metadata": {},
   "outputs": [
    {
     "data": {
      "text/plain": [
       "3642.0"
      ]
     },
     "execution_count": 23,
     "metadata": {},
     "output_type": "execute_result"
    }
   ],
   "source": [
    "data_IQR = stats.iqr(covid_data['new_cases'])\n",
    "data_IQR"
   ]
  },
  {
   "cell_type": "code",
   "execution_count": null,
   "id": "244fd041",
   "metadata": {},
   "outputs": [],
   "source": []
  }
 ],
 "metadata": {
  "kernelspec": {
   "display_name": "base",
   "language": "python",
   "name": "python3"
  },
  "language_info": {
   "codemirror_mode": {
    "name": "ipython",
    "version": 3
   },
   "file_extension": ".py",
   "mimetype": "text/x-python",
   "name": "python",
   "nbconvert_exporter": "python",
   "pygments_lexer": "ipython3",
   "version": "3.12.7"
  }
 },
 "nbformat": 4,
 "nbformat_minor": 5
}
